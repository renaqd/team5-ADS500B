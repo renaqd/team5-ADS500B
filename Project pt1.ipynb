{
 "cells": [
  {
   "cell_type": "code",
   "execution_count": 1,
   "id": "3e44546a",
   "metadata": {},
   "outputs": [
    {
     "data": {
      "text/plain": [
       "'C:\\\\Users\\\\tysir'"
      ]
     },
     "execution_count": 1,
     "metadata": {},
     "output_type": "execute_result"
    }
   ],
   "source": [
    "%pwd"
   ]
  },
  {
   "cell_type": "code",
   "execution_count": 2,
   "id": "5561384e",
   "metadata": {},
   "outputs": [
    {
     "ename": "NameError",
     "evalue": "name 'pd' is not defined",
     "output_type": "error",
     "traceback": [
      "\u001b[1;31m---------------------------------------------------------------------------\u001b[0m",
      "\u001b[1;31mNameError\u001b[0m                                 Traceback (most recent call last)",
      "Cell \u001b[1;32mIn[2], line 2\u001b[0m\n\u001b[0;32m      1\u001b[0m file_path \u001b[38;5;241m=\u001b[39m \u001b[38;5;124m'\u001b[39m\u001b[38;5;124mhouse_sales.csv\u001b[39m\u001b[38;5;124m'\u001b[39m\n\u001b[1;32m----> 2\u001b[0m house_sales_df \u001b[38;5;241m=\u001b[39m \u001b[43mpd\u001b[49m\u001b[38;5;241m.\u001b[39mread_csv(file_path)\n",
      "\u001b[1;31mNameError\u001b[0m: name 'pd' is not defined"
     ]
    }
   ],
   "source": [
    "file_path = 'house_sales.csv'\n",
    "house_sales_df = pd.read_csv(file_path)"
   ]
  },
  {
   "cell_type": "code",
   "execution_count": 3,
   "id": "ac291261",
   "metadata": {},
   "outputs": [],
   "source": [
    "import numpy as np\n",
    "import pandas as pd\n",
    "import matplotlib as mpl\n",
    "import matplotlib.pyplot as plt\n",
    "import seaborn as sns"
   ]
  },
  {
   "cell_type": "code",
   "execution_count": 4,
   "id": "38db5398",
   "metadata": {},
   "outputs": [],
   "source": [
    "file_path = 'house_sales.csv'\n",
    "house_sales_df = pd.read_csv(file_path)"
   ]
  },
  {
   "cell_type": "code",
   "execution_count": 5,
   "id": "aa11782b",
   "metadata": {},
   "outputs": [
    {
     "name": "stdout",
     "output_type": "stream",
     "text": [
      "          id   date  price  bedrooms  bathrooms  sqft_living  sqft_lot  \\\n",
      "0      False  False  False     False      False        False     False   \n",
      "1      False  False  False     False      False        False     False   \n",
      "2      False  False  False     False      False        False     False   \n",
      "3      False  False  False     False      False        False     False   \n",
      "4      False  False  False     False      False        False     False   \n",
      "...      ...    ...    ...       ...        ...          ...       ...   \n",
      "21608  False  False  False     False      False        False     False   \n",
      "21609  False  False  False     False      False        False     False   \n",
      "21610  False  False  False     False      False        False     False   \n",
      "21611  False  False  False     False      False        False     False   \n",
      "21612  False  False  False     False      False        False     False   \n",
      "\n",
      "       floors  waterfront   view  ...  grade  sqft_above  sqft_basement  \\\n",
      "0       False       False  False  ...  False       False          False   \n",
      "1       False       False  False  ...  False       False          False   \n",
      "2       False       False  False  ...  False       False          False   \n",
      "3       False       False  False  ...  False       False          False   \n",
      "4       False       False  False  ...  False       False          False   \n",
      "...       ...         ...    ...  ...    ...         ...            ...   \n",
      "21608   False       False  False  ...  False       False          False   \n",
      "21609   False       False  False  ...  False       False          False   \n",
      "21610   False       False  False  ...  False       False          False   \n",
      "21611   False       False  False  ...  False       False          False   \n",
      "21612   False       False  False  ...  False       False          False   \n",
      "\n",
      "       yr_built  yr_renovated  zipcode    lat   long  sqft_living15  \\\n",
      "0         False         False    False  False  False          False   \n",
      "1         False         False    False  False  False          False   \n",
      "2         False         False    False  False  False          False   \n",
      "3         False         False    False  False  False          False   \n",
      "4         False         False    False  False  False          False   \n",
      "...         ...           ...      ...    ...    ...            ...   \n",
      "21608     False         False    False  False  False          False   \n",
      "21609     False         False    False  False  False          False   \n",
      "21610     False         False    False  False  False          False   \n",
      "21611     False         False    False  False  False          False   \n",
      "21612     False         False    False  False  False          False   \n",
      "\n",
      "       sqft_lot15  \n",
      "0           False  \n",
      "1           False  \n",
      "2           False  \n",
      "3           False  \n",
      "4           False  \n",
      "...           ...  \n",
      "21608       False  \n",
      "21609       False  \n",
      "21610       False  \n",
      "21611       False  \n",
      "21612       False  \n",
      "\n",
      "[21613 rows x 21 columns]\n"
     ]
    }
   ],
   "source": [
    "missing_values = house_sales_df.isnull()\n",
    "print(missing_values)"
   ]
  },
  {
   "cell_type": "code",
   "execution_count": 6,
   "id": "e70e14a3",
   "metadata": {},
   "outputs": [
    {
     "name": "stdout",
     "output_type": "stream",
     "text": [
      "               id             date     price  bedrooms  bathrooms  \\\n",
      "0      7129300520  20141013T000000  221900.0       3.0       1.00   \n",
      "1      6414100192  20141209T000000  538000.0       3.0       2.25   \n",
      "2      5631500400  20150225T000000  180000.0       2.0       1.00   \n",
      "3      2487200875  20141209T000000  604000.0       4.0       3.00   \n",
      "4      1954400510  20150218T000000  510000.0       3.0       2.00   \n",
      "...           ...              ...       ...       ...        ...   \n",
      "21608   263000018  20140521T000000  360000.0       3.0       2.50   \n",
      "21609  6600060120  20150223T000000  400000.0       4.0       2.50   \n",
      "21610  1523300141  20140623T000000  402101.0       2.0       0.75   \n",
      "21611   291310100  20150116T000000  400000.0       3.0       2.50   \n",
      "21612  1523300157  20141015T000000  325000.0       2.0       0.75   \n",
      "\n",
      "       sqft_living  sqft_lot  floors  waterfront  view  ...  grade  \\\n",
      "0           1180.0    5650.0     1.0           0     0  ...      7   \n",
      "1           2570.0    7242.0     2.0           0     0  ...      7   \n",
      "2            770.0   10000.0     1.0           0     0  ...      6   \n",
      "3           1960.0    5000.0     1.0           0     0  ...      7   \n",
      "4           1680.0    8080.0     1.0           0     0  ...      8   \n",
      "...            ...       ...     ...         ...   ...  ...    ...   \n",
      "21608       1530.0    1131.0     3.0           0     0  ...      8   \n",
      "21609       2310.0    5813.0     2.0           0     0  ...      8   \n",
      "21610       1020.0    1350.0     2.0           0     0  ...      7   \n",
      "21611       1600.0    2388.0     2.0           0     0  ...      8   \n",
      "21612       1020.0    1076.0     2.0           0     0  ...      7   \n",
      "\n",
      "       sqft_above  sqft_basement  yr_built  yr_renovated  zipcode      lat  \\\n",
      "0            1180              0      1955             0    98178  47.5112   \n",
      "1            2170            400      1951          1991    98125  47.7210   \n",
      "2             770              0      1933             0    98028  47.7379   \n",
      "3            1050            910      1965             0    98136  47.5208   \n",
      "4            1680              0      1987             0    98074  47.6168   \n",
      "...           ...            ...       ...           ...      ...      ...   \n",
      "21608        1530              0      2009             0    98103  47.6993   \n",
      "21609        2310              0      2014             0    98146  47.5107   \n",
      "21610        1020              0      2009             0    98144  47.5944   \n",
      "21611        1600              0      2004             0    98027  47.5345   \n",
      "21612        1020              0      2008             0    98144  47.5941   \n",
      "\n",
      "          long  sqft_living15  sqft_lot15  \n",
      "0     -122.257           1340        5650  \n",
      "1     -122.319           1690        7639  \n",
      "2     -122.233           2720        8062  \n",
      "3     -122.393           1360        5000  \n",
      "4     -122.045           1800        7503  \n",
      "...        ...            ...         ...  \n",
      "21608 -122.346           1530        1509  \n",
      "21609 -122.362           1830        7200  \n",
      "21610 -122.299           1020        2007  \n",
      "21611 -122.069           1410        1287  \n",
      "21612 -122.299           1020        1357  \n",
      "\n",
      "[21613 rows x 21 columns]\n"
     ]
    }
   ],
   "source": [
    "print(house_sales_df)\n",
    "#21613 rows and 21 columns"
   ]
  },
  {
   "cell_type": "code",
   "execution_count": 8,
   "id": "496d0564",
   "metadata": {},
   "outputs": [
    {
     "name": "stdout",
     "output_type": "stream",
     "text": [
      "id                  0\n",
      "date                0\n",
      "price               0\n",
      "bedrooms         1134\n",
      "bathrooms        1068\n",
      "sqft_living      1110\n",
      "sqft_lot         1044\n",
      "floors              0\n",
      "waterfront          0\n",
      "view                0\n",
      "condition           0\n",
      "grade               0\n",
      "sqft_above          0\n",
      "sqft_basement       0\n",
      "yr_built            0\n",
      "yr_renovated        0\n",
      "zipcode             0\n",
      "lat                 0\n",
      "long                0\n",
      "sqft_living15       0\n",
      "sqft_lot15          0\n",
      "dtype: int64\n"
     ]
    }
   ],
   "source": [
    "missing_values = house_sales_df.isnull().sum()\n",
    "print(missing_values)\n",
    "#Black or null values in the dataset"
   ]
  },
  {
   "cell_type": "code",
   "execution_count": 9,
   "id": "dd7fa5ab",
   "metadata": {},
   "outputs": [],
   "source": [
    "house_sales_df.dropna(subset=['bedrooms'], inplace=True)"
   ]
  },
  {
   "cell_type": "code",
   "execution_count": 10,
   "id": "049db4f6",
   "metadata": {},
   "outputs": [],
   "source": [
    "house_sales_df.dropna(subset=['bathrooms'], inplace=True)\n",
    "house_sales_df.dropna(subset=['sqft_living'], inplace=True)\n",
    "house_sales_df.dropna(subset=['sqft_lot'], inplace=True)\n",
    "#Removed all black or null values from the dataset\n",
    "#Still 17618 rows of data left to analyze"
   ]
  },
  {
   "cell_type": "code",
   "execution_count": 11,
   "id": "61a3b2e4",
   "metadata": {},
   "outputs": [
    {
     "name": "stdout",
     "output_type": "stream",
     "text": [
      "               id             date     price  bedrooms  bathrooms  \\\n",
      "0      7129300520  20141013T000000  221900.0       3.0       1.00   \n",
      "1      6414100192  20141209T000000  538000.0       3.0       2.25   \n",
      "2      5631500400  20150225T000000  180000.0       2.0       1.00   \n",
      "3      2487200875  20141209T000000  604000.0       4.0       3.00   \n",
      "4      1954400510  20150218T000000  510000.0       3.0       2.00   \n",
      "...           ...              ...       ...       ...        ...   \n",
      "21608   263000018  20140521T000000  360000.0       3.0       2.50   \n",
      "21609  6600060120  20150223T000000  400000.0       4.0       2.50   \n",
      "21610  1523300141  20140623T000000  402101.0       2.0       0.75   \n",
      "21611   291310100  20150116T000000  400000.0       3.0       2.50   \n",
      "21612  1523300157  20141015T000000  325000.0       2.0       0.75   \n",
      "\n",
      "       sqft_living  sqft_lot  floors  waterfront  view  ...  grade  \\\n",
      "0           1180.0    5650.0     1.0           0     0  ...      7   \n",
      "1           2570.0    7242.0     2.0           0     0  ...      7   \n",
      "2            770.0   10000.0     1.0           0     0  ...      6   \n",
      "3           1960.0    5000.0     1.0           0     0  ...      7   \n",
      "4           1680.0    8080.0     1.0           0     0  ...      8   \n",
      "...            ...       ...     ...         ...   ...  ...    ...   \n",
      "21608       1530.0    1131.0     3.0           0     0  ...      8   \n",
      "21609       2310.0    5813.0     2.0           0     0  ...      8   \n",
      "21610       1020.0    1350.0     2.0           0     0  ...      7   \n",
      "21611       1600.0    2388.0     2.0           0     0  ...      8   \n",
      "21612       1020.0    1076.0     2.0           0     0  ...      7   \n",
      "\n",
      "       sqft_above  sqft_basement  yr_built  yr_renovated  zipcode      lat  \\\n",
      "0            1180              0      1955             0    98178  47.5112   \n",
      "1            2170            400      1951          1991    98125  47.7210   \n",
      "2             770              0      1933             0    98028  47.7379   \n",
      "3            1050            910      1965             0    98136  47.5208   \n",
      "4            1680              0      1987             0    98074  47.6168   \n",
      "...           ...            ...       ...           ...      ...      ...   \n",
      "21608        1530              0      2009             0    98103  47.6993   \n",
      "21609        2310              0      2014             0    98146  47.5107   \n",
      "21610        1020              0      2009             0    98144  47.5944   \n",
      "21611        1600              0      2004             0    98027  47.5345   \n",
      "21612        1020              0      2008             0    98144  47.5941   \n",
      "\n",
      "          long  sqft_living15  sqft_lot15  \n",
      "0     -122.257           1340        5650  \n",
      "1     -122.319           1690        7639  \n",
      "2     -122.233           2720        8062  \n",
      "3     -122.393           1360        5000  \n",
      "4     -122.045           1800        7503  \n",
      "...        ...            ...         ...  \n",
      "21608 -122.346           1530        1509  \n",
      "21609 -122.362           1830        7200  \n",
      "21610 -122.299           1020        2007  \n",
      "21611 -122.069           1410        1287  \n",
      "21612 -122.299           1020        1357  \n",
      "\n",
      "[17618 rows x 21 columns]\n"
     ]
    }
   ],
   "source": [
    "print(house_sales_df)"
   ]
  },
  {
   "cell_type": "code",
   "execution_count": null,
   "id": "53d8d2f2",
   "metadata": {},
   "outputs": [],
   "source": []
  }
 ],
 "metadata": {
  "kernelspec": {
   "display_name": "Python 3 (ipykernel)",
   "language": "python",
   "name": "python3"
  },
  "language_info": {
   "codemirror_mode": {
    "name": "ipython",
    "version": 3
   },
   "file_extension": ".py",
   "mimetype": "text/x-python",
   "name": "python",
   "nbconvert_exporter": "python",
   "pygments_lexer": "ipython3",
   "version": "3.10.9"
  }
 },
 "nbformat": 4,
 "nbformat_minor": 5
}
