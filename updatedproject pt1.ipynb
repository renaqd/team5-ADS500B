{
 "cells": [
  {
   "cell_type": "code",
   "execution_count": 1,
   "id": "64e9053f",
   "metadata": {},
   "outputs": [],
   "source": [
    "import numpy as np\n",
    "import pandas as pd\n",
    "import matplotlib as mpl\n",
    "import matplotlib.pyplot as plt\n",
    "import seaborn as sns"
   ]
  },
  {
   "cell_type": "code",
   "execution_count": 2,
   "id": "67d45870",
   "metadata": {},
   "outputs": [],
   "source": [
    "file_path = 'house_sales.csv'\n",
    "house_sales_df = pd.read_csv(file_path)"
   ]
  },
  {
   "cell_type": "code",
   "execution_count": 3,
   "id": "60179246",
   "metadata": {},
   "outputs": [
    {
     "name": "stdout",
     "output_type": "stream",
     "text": [
      "               id             date     price  bedrooms  bathrooms  \\\n",
      "0      7129300520  20141013T000000  221900.0       3.0       1.00   \n",
      "1      6414100192  20141209T000000  538000.0       3.0       2.25   \n",
      "2      5631500400  20150225T000000  180000.0       2.0       1.00   \n",
      "3      2487200875  20141209T000000  604000.0       4.0       3.00   \n",
      "4      1954400510  20150218T000000  510000.0       3.0       2.00   \n",
      "...           ...              ...       ...       ...        ...   \n",
      "21608   263000018  20140521T000000  360000.0       3.0       2.50   \n",
      "21609  6600060120  20150223T000000  400000.0       4.0       2.50   \n",
      "21610  1523300141  20140623T000000  402101.0       2.0       0.75   \n",
      "21611   291310100  20150116T000000  400000.0       3.0       2.50   \n",
      "21612  1523300157  20141015T000000  325000.0       2.0       0.75   \n",
      "\n",
      "       sqft_living  sqft_lot  floors  waterfront  view  ...  grade  \\\n",
      "0           1180.0    5650.0     1.0           0     0  ...      7   \n",
      "1           2570.0    7242.0     2.0           0     0  ...      7   \n",
      "2            770.0   10000.0     1.0           0     0  ...      6   \n",
      "3           1960.0    5000.0     1.0           0     0  ...      7   \n",
      "4           1680.0    8080.0     1.0           0     0  ...      8   \n",
      "...            ...       ...     ...         ...   ...  ...    ...   \n",
      "21608       1530.0    1131.0     3.0           0     0  ...      8   \n",
      "21609       2310.0    5813.0     2.0           0     0  ...      8   \n",
      "21610       1020.0    1350.0     2.0           0     0  ...      7   \n",
      "21611       1600.0    2388.0     2.0           0     0  ...      8   \n",
      "21612       1020.0    1076.0     2.0           0     0  ...      7   \n",
      "\n",
      "       sqft_above  sqft_basement  yr_built  yr_renovated  zipcode      lat  \\\n",
      "0            1180              0      1955             0    98178  47.5112   \n",
      "1            2170            400      1951          1991    98125  47.7210   \n",
      "2             770              0      1933             0    98028  47.7379   \n",
      "3            1050            910      1965             0    98136  47.5208   \n",
      "4            1680              0      1987             0    98074  47.6168   \n",
      "...           ...            ...       ...           ...      ...      ...   \n",
      "21608        1530              0      2009             0    98103  47.6993   \n",
      "21609        2310              0      2014             0    98146  47.5107   \n",
      "21610        1020              0      2009             0    98144  47.5944   \n",
      "21611        1600              0      2004             0    98027  47.5345   \n",
      "21612        1020              0      2008             0    98144  47.5941   \n",
      "\n",
      "          long  sqft_living15  sqft_lot15  \n",
      "0     -122.257           1340        5650  \n",
      "1     -122.319           1690        7639  \n",
      "2     -122.233           2720        8062  \n",
      "3     -122.393           1360        5000  \n",
      "4     -122.045           1800        7503  \n",
      "...        ...            ...         ...  \n",
      "21608 -122.346           1530        1509  \n",
      "21609 -122.362           1830        7200  \n",
      "21610 -122.299           1020        2007  \n",
      "21611 -122.069           1410        1287  \n",
      "21612 -122.299           1020        1357  \n",
      "\n",
      "[21613 rows x 21 columns]\n"
     ]
    }
   ],
   "source": [
    "print(house_sales_df)"
   ]
  },
  {
   "cell_type": "code",
   "execution_count": 4,
   "id": "40d16e04",
   "metadata": {},
   "outputs": [
    {
     "name": "stderr",
     "output_type": "stream",
     "text": [
      "C:\\Users\\tysir\\AppData\\Local\\Temp\\ipykernel_8620\\1768563397.py:1: FutureWarning: The default value of numeric_only in DataFrame.mean is deprecated. In a future version, it will default to False. In addition, specifying 'numeric_only=None' is deprecated. Select only valid columns or specify the value of numeric_only to silence this warning.\n",
      "  house_sales_df.fillna(house_sales_df.mean(), inplace=True)\n"
     ]
    }
   ],
   "source": [
    "house_sales_df.fillna(house_sales_df.mean(), inplace=True)"
   ]
  },
  {
   "cell_type": "code",
   "execution_count": 5,
   "id": "1d0a328a",
   "metadata": {},
   "outputs": [],
   "source": [
    "house_sales_df.fillna(house_sales_df.mean(numeric_only=True).round(1), inplace=True)"
   ]
  },
  {
   "cell_type": "code",
   "execution_count": 6,
   "id": "976a5f79",
   "metadata": {},
   "outputs": [
    {
     "name": "stdout",
     "output_type": "stream",
     "text": [
      "               id             date     price  bedrooms  bathrooms  \\\n",
      "0      7129300520  20141013T000000  221900.0       3.0       1.00   \n",
      "1      6414100192  20141209T000000  538000.0       3.0       2.25   \n",
      "2      5631500400  20150225T000000  180000.0       2.0       1.00   \n",
      "3      2487200875  20141209T000000  604000.0       4.0       3.00   \n",
      "4      1954400510  20150218T000000  510000.0       3.0       2.00   \n",
      "...           ...              ...       ...       ...        ...   \n",
      "21608   263000018  20140521T000000  360000.0       3.0       2.50   \n",
      "21609  6600060120  20150223T000000  400000.0       4.0       2.50   \n",
      "21610  1523300141  20140623T000000  402101.0       2.0       0.75   \n",
      "21611   291310100  20150116T000000  400000.0       3.0       2.50   \n",
      "21612  1523300157  20141015T000000  325000.0       2.0       0.75   \n",
      "\n",
      "       sqft_living  sqft_lot  floors  waterfront  view  ...  grade  \\\n",
      "0           1180.0    5650.0     1.0           0     0  ...      7   \n",
      "1           2570.0    7242.0     2.0           0     0  ...      7   \n",
      "2            770.0   10000.0     1.0           0     0  ...      6   \n",
      "3           1960.0    5000.0     1.0           0     0  ...      7   \n",
      "4           1680.0    8080.0     1.0           0     0  ...      8   \n",
      "...            ...       ...     ...         ...   ...  ...    ...   \n",
      "21608       1530.0    1131.0     3.0           0     0  ...      8   \n",
      "21609       2310.0    5813.0     2.0           0     0  ...      8   \n",
      "21610       1020.0    1350.0     2.0           0     0  ...      7   \n",
      "21611       1600.0    2388.0     2.0           0     0  ...      8   \n",
      "21612       1020.0    1076.0     2.0           0     0  ...      7   \n",
      "\n",
      "       sqft_above  sqft_basement  yr_built  yr_renovated  zipcode      lat  \\\n",
      "0            1180              0      1955             0    98178  47.5112   \n",
      "1            2170            400      1951          1991    98125  47.7210   \n",
      "2             770              0      1933             0    98028  47.7379   \n",
      "3            1050            910      1965             0    98136  47.5208   \n",
      "4            1680              0      1987             0    98074  47.6168   \n",
      "...           ...            ...       ...           ...      ...      ...   \n",
      "21608        1530              0      2009             0    98103  47.6993   \n",
      "21609        2310              0      2014             0    98146  47.5107   \n",
      "21610        1020              0      2009             0    98144  47.5944   \n",
      "21611        1600              0      2004             0    98027  47.5345   \n",
      "21612        1020              0      2008             0    98144  47.5941   \n",
      "\n",
      "          long  sqft_living15  sqft_lot15  \n",
      "0     -122.257           1340        5650  \n",
      "1     -122.319           1690        7639  \n",
      "2     -122.233           2720        8062  \n",
      "3     -122.393           1360        5000  \n",
      "4     -122.045           1800        7503  \n",
      "...        ...            ...         ...  \n",
      "21608 -122.346           1530        1509  \n",
      "21609 -122.362           1830        7200  \n",
      "21610 -122.299           1020        2007  \n",
      "21611 -122.069           1410        1287  \n",
      "21612 -122.299           1020        1357  \n",
      "\n",
      "[21613 rows x 21 columns]\n"
     ]
    }
   ],
   "source": [
    "print(house_sales_df)"
   ]
  },
  {
   "cell_type": "code",
   "execution_count": 7,
   "id": "9b3e2706",
   "metadata": {},
   "outputs": [],
   "source": [
    "missing_values = house_sales_df.isnull().sum()"
   ]
  },
  {
   "cell_type": "code",
   "execution_count": 8,
   "id": "9283d607",
   "metadata": {},
   "outputs": [
    {
     "name": "stdout",
     "output_type": "stream",
     "text": [
      "id               0\n",
      "date             0\n",
      "price            0\n",
      "bedrooms         0\n",
      "bathrooms        0\n",
      "sqft_living      0\n",
      "sqft_lot         0\n",
      "floors           0\n",
      "waterfront       0\n",
      "view             0\n",
      "condition        0\n",
      "grade            0\n",
      "sqft_above       0\n",
      "sqft_basement    0\n",
      "yr_built         0\n",
      "yr_renovated     0\n",
      "zipcode          0\n",
      "lat              0\n",
      "long             0\n",
      "sqft_living15    0\n",
      "sqft_lot15       0\n",
      "dtype: int64\n"
     ]
    }
   ],
   "source": [
    "print(missing_values)"
   ]
  },
  {
   "cell_type": "code",
   "execution_count": 9,
   "id": "a65f4033",
   "metadata": {},
   "outputs": [],
   "source": [
    "house_sales_df.to_csv(\"housesales.csv\", index=False)"
   ]
  },
  {
   "cell_type": "code",
   "execution_count": 10,
   "id": "9c31ef44",
   "metadata": {},
   "outputs": [
    {
     "ename": "NameError",
     "evalue": "name 'Print' is not defined",
     "output_type": "error",
     "traceback": [
      "\u001b[1;31m---------------------------------------------------------------------------\u001b[0m",
      "\u001b[1;31mNameError\u001b[0m                                 Traceback (most recent call last)",
      "Cell \u001b[1;32mIn[10], line 1\u001b[0m\n\u001b[1;32m----> 1\u001b[0m \u001b[43mPrint\u001b[49m(housesales)\n",
      "\u001b[1;31mNameError\u001b[0m: name 'Print' is not defined"
     ]
    }
   ],
   "source": [
    "Print(housesales)"
   ]
  },
  {
   "cell_type": "code",
   "execution_count": 11,
   "id": "1d440a2e",
   "metadata": {},
   "outputs": [],
   "source": [
    "file_path = 'housesales.csv'\n",
    "housesales_df = pd.read_csv(file_path)"
   ]
  },
  {
   "cell_type": "code",
   "execution_count": 12,
   "id": "12289e4b",
   "metadata": {},
   "outputs": [
    {
     "name": "stdout",
     "output_type": "stream",
     "text": [
      "               id             date     price  bedrooms  bathrooms  \\\n",
      "0      7129300520  20141013T000000  221900.0       3.0       1.00   \n",
      "1      6414100192  20141209T000000  538000.0       3.0       2.25   \n",
      "2      5631500400  20150225T000000  180000.0       2.0       1.00   \n",
      "3      2487200875  20141209T000000  604000.0       4.0       3.00   \n",
      "4      1954400510  20150218T000000  510000.0       3.0       2.00   \n",
      "...           ...              ...       ...       ...        ...   \n",
      "21608   263000018  20140521T000000  360000.0       3.0       2.50   \n",
      "21609  6600060120  20150223T000000  400000.0       4.0       2.50   \n",
      "21610  1523300141  20140623T000000  402101.0       2.0       0.75   \n",
      "21611   291310100  20150116T000000  400000.0       3.0       2.50   \n",
      "21612  1523300157  20141015T000000  325000.0       2.0       0.75   \n",
      "\n",
      "       sqft_living  sqft_lot  floors  waterfront  view  ...  grade  \\\n",
      "0           1180.0    5650.0     1.0           0     0  ...      7   \n",
      "1           2570.0    7242.0     2.0           0     0  ...      7   \n",
      "2            770.0   10000.0     1.0           0     0  ...      6   \n",
      "3           1960.0    5000.0     1.0           0     0  ...      7   \n",
      "4           1680.0    8080.0     1.0           0     0  ...      8   \n",
      "...            ...       ...     ...         ...   ...  ...    ...   \n",
      "21608       1530.0    1131.0     3.0           0     0  ...      8   \n",
      "21609       2310.0    5813.0     2.0           0     0  ...      8   \n",
      "21610       1020.0    1350.0     2.0           0     0  ...      7   \n",
      "21611       1600.0    2388.0     2.0           0     0  ...      8   \n",
      "21612       1020.0    1076.0     2.0           0     0  ...      7   \n",
      "\n",
      "       sqft_above  sqft_basement  yr_built  yr_renovated  zipcode      lat  \\\n",
      "0            1180              0      1955             0    98178  47.5112   \n",
      "1            2170            400      1951          1991    98125  47.7210   \n",
      "2             770              0      1933             0    98028  47.7379   \n",
      "3            1050            910      1965             0    98136  47.5208   \n",
      "4            1680              0      1987             0    98074  47.6168   \n",
      "...           ...            ...       ...           ...      ...      ...   \n",
      "21608        1530              0      2009             0    98103  47.6993   \n",
      "21609        2310              0      2014             0    98146  47.5107   \n",
      "21610        1020              0      2009             0    98144  47.5944   \n",
      "21611        1600              0      2004             0    98027  47.5345   \n",
      "21612        1020              0      2008             0    98144  47.5941   \n",
      "\n",
      "          long  sqft_living15  sqft_lot15  \n",
      "0     -122.257           1340        5650  \n",
      "1     -122.319           1690        7639  \n",
      "2     -122.233           2720        8062  \n",
      "3     -122.393           1360        5000  \n",
      "4     -122.045           1800        7503  \n",
      "...        ...            ...         ...  \n",
      "21608 -122.346           1530        1509  \n",
      "21609 -122.362           1830        7200  \n",
      "21610 -122.299           1020        2007  \n",
      "21611 -122.069           1410        1287  \n",
      "21612 -122.299           1020        1357  \n",
      "\n",
      "[21613 rows x 21 columns]\n"
     ]
    }
   ],
   "source": [
    "print(housesales_df)"
   ]
  },
  {
   "cell_type": "code",
   "execution_count": 14,
   "id": "0e1d139c",
   "metadata": {},
   "outputs": [
    {
     "name": "stdout",
     "output_type": "stream",
     "text": [
      "id               0\n",
      "date             0\n",
      "price            0\n",
      "bedrooms         0\n",
      "bathrooms        0\n",
      "sqft_living      0\n",
      "sqft_lot         0\n",
      "floors           0\n",
      "waterfront       0\n",
      "view             0\n",
      "condition        0\n",
      "grade            0\n",
      "sqft_above       0\n",
      "sqft_basement    0\n",
      "yr_built         0\n",
      "yr_renovated     0\n",
      "zipcode          0\n",
      "lat              0\n",
      "long             0\n",
      "sqft_living15    0\n",
      "sqft_lot15       0\n",
      "dtype: int64\n"
     ]
    }
   ],
   "source": [
    "missing_values = housesales_df.isnull().sum()\n",
    "print(missing_values)"
   ]
  },
  {
   "cell_type": "code",
   "execution_count": null,
   "id": "257116b1",
   "metadata": {},
   "outputs": [],
   "source": []
  }
 ],
 "metadata": {
  "kernelspec": {
   "display_name": "Python 3 (ipykernel)",
   "language": "python",
   "name": "python3"
  },
  "language_info": {
   "codemirror_mode": {
    "name": "ipython",
    "version": 3
   },
   "file_extension": ".py",
   "mimetype": "text/x-python",
   "name": "python",
   "nbconvert_exporter": "python",
   "pygments_lexer": "ipython3",
   "version": "3.10.9"
  }
 },
 "nbformat": 4,
 "nbformat_minor": 5
}
